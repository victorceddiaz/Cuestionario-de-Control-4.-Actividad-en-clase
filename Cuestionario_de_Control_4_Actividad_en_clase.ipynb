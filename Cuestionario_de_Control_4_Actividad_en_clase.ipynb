{
  "nbformat": 4,
  "nbformat_minor": 0,
  "metadata": {
    "colab": {
      "name": "Cuestionario de Control 4. Actividad en clase.ipynb",
      "provenance": [],
      "collapsed_sections": [],
      "authorship_tag": "ABX9TyMMPNicCtIcWduBG6noHG4n",
      "include_colab_link": true
    },
    "kernelspec": {
      "name": "python3",
      "display_name": "Python 3"
    },
    "language_info": {
      "name": "python"
    }
  },
  "cells": [
    {
      "cell_type": "markdown",
      "metadata": {
        "id": "view-in-github",
        "colab_type": "text"
      },
      "source": [
        "<a href=\"https://colab.research.google.com/github/victorceddiaz/Cuestionario-de-Control-4.-Actividad-en-clase/blob/main/Cuestionario_de_Control_4_Actividad_en_clase.ipynb\" target=\"_parent\"><img src=\"https://colab.research.google.com/assets/colab-badge.svg\" alt=\"Open In Colab\"/></a>"
      ]
    },
    {
      "cell_type": "markdown",
      "metadata": {
        "id": "3PwrLPdSuvG7"
      },
      "source": [
        "##Cuestionario de Control 4. Actividad en clase\n",
        "\n",
        "Alumno: Cedillo Díaz Victor Antonio \n",
        "\n",
        "Grupo: 1360\n",
        "\n",
        "Materia: Estructura de Datos"
      ]
    },
    {
      "cell_type": "code",
      "metadata": {
        "id": "i8hyPt-MuUFd"
      },
      "source": [
        "class trabajador:\n",
        "    def __init__(self, nt, nom, pat, mat, he, sb, ai) :\n",
        "        self.__numero_trabajador=nt\n",
        "        self.__nombre=nom\n",
        "        self.__apellido_paterno=pat\n",
        "        self.__apellido_materno=mat\n",
        "        self.__horas_extras=he\n",
        "        self.__sueldo_base=sb\n",
        "        self.__anio=ai \n",
        "\n",
        "    def get_numero_trabajador (self, index) :\n",
        "        return self.__numero_trabajador\n",
        "\n",
        "    def set_numero_trabajador(self, nt) :\n",
        "        self.__numero_trabajador=nt \n",
        "\n",
        "    #metodos de logica, calcular horas extras"
      ],
      "execution_count": null,
      "outputs": []
    },
    {
      "cell_type": "code",
      "metadata": {
        "id": "ryfaZ9Cnu2Ks"
      },
      "source": [
        "class nominaADT:\n",
        "    def __init__(self, ruta_archivo) :\n",
        "        #abrir el archivo y dterminar numero de empleados --> num_emp\n",
        "        self.__data = Array(num_emp)\n",
        "    \n",
        "    def calcular_sueldos(self) :\n",
        "        #iterar sobre el array y hacer el calculo de sueldos\n",
        "\n",
        "    def buscar_mas_antiguo(self) :\n",
        "        #iterar y buscar en el array el de mayor antiguedad en el puesto\n",
        "\n",
        "    def buscar_menor_antiguo(self) :\n",
        "        #iterar y buscar en el array el de menor antiguedad en el puesto"
      ],
      "execution_count": null,
      "outputs": []
    }
  ]
}